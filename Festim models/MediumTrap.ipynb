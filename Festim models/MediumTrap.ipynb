{
 "cells": [
  {
   "cell_type": "code",
   "execution_count": 1,
   "metadata": {},
   "outputs": [],
   "source": [
    "import festim as F\n",
    "import numpy as np\n",
    "import scipy.constants as const\n",
    "\n",
    "my_model = F.Simulation()\n",
    "N_A_const=const.N_A\n",
    "my_model.mesh = F.MeshFromVertices(\n",
    "    vertices=np.linspace(0, 1E-3, num=10001)\n",
    ")\n",
    "my_model.materials = F.Material(id=1, D_0=1.9e-7, E_D=0.2)\n",
    "my_model.T = F.Temperature(value=1000)\n",
    "P_up = 1E5 # Pa\n",
    "\n",
    "my_model.boundary_conditions = [\n",
    "    F.DirichletBC(surfaces=1, value=0.0088*N_A_const,field=0),\n",
    "    F.DirichletBC(surfaces=2, value=0, field=0)\n",
    "]\n",
    "rho_n=6.338E28\n",
    "trap = F.Trap(\n",
    "            k_0=1.58E7/N_A_const,\n",
    "            E_k=0.2,\n",
    "            p_0=1e13,\n",
    "            E_p=2,\n",
    "            density=1E-3*rho_n,\n",
    "            materials=my_model.materials.materials[0]\n",
    "        )\n",
    "\n",
    "my_model.traps = [trap]\n",
    "my_model.settings = F.Settings(\n",
    "    absolute_tolerance=1e10,\n",
    "    relative_tolerance=1e-10,\n",
    "    final_time=1E6  # s\n",
    "    )\n",
    "my_model.dt = F.Stepsize(initial_value=1E-2,\n",
    "    dt_min=1E-3,\n",
    "    stepsize_change_ratio=1.1,\n",
    "    )\n",
    "derived_quantities = F.DerivedQuantities([F.HydrogenFlux(surface=2)])\n",
    "\n",
    "\n",
    "my_model.exports = [derived_quantities]\n",
    "\n"
   ]
  },
  {
   "cell_type": "code",
   "execution_count": 2,
   "metadata": {},
   "outputs": [
    {
     "name": "stdout",
     "output_type": "stream",
     "text": [
      "Defining initial values\n",
      "Defining variational problem\n",
      "Defining source terms\n",
      "Defining boundary conditions\n"
     ]
    }
   ],
   "source": [
    "my_model.initialise()\n",
    "\n"
   ]
  },
  {
   "cell_type": "code",
   "execution_count": 4,
   "metadata": {},
   "outputs": [
    {
     "name": "stdout",
     "output_type": "stream",
     "text": [
      "Time stepping...\n",
      "100.0 %        1.0e+06 s    Ellapsed time so far: 25.7 s\n"
     ]
    }
   ],
   "source": [
    "my_model.run()"
   ]
  },
  {
   "cell_type": "code",
   "execution_count": 5,
   "metadata": {},
   "outputs": [
    {
     "name": "stdout",
     "output_type": "stream",
     "text": [
      "/home/gabriferrero/TITANS_FESTIM\n"
     ]
    },
    {
     "data": {
      "image/png": "[encoded data removed]",
      "text/plain": [
       "<Figure size 432x288 with 1 Axes>"
      ]
     },
     "metadata": {
      "needs_background": "light"
     },
     "output_type": "display_data"
    }
   ],
   "source": [
    "\n",
    "def downstream_flux(t, P_up, permeability, L, D):\n",
    "    \"\"\"calculates the downstream H flux at a given time t\n",
    "\n",
    "    Args:\n",
    "        t (float, np.array): the time\n",
    "        P_up (float): upstream partial pressure of H\n",
    "        permeability (float): material permeability\n",
    "        L (float): material thickness\n",
    "        D (float): diffusivity of H in the material\n",
    "\n",
    "    Returns:\n",
    "        float, np.array: the downstream flux of H\n",
    "    \"\"\"\n",
    "    n_array = np.arange(1, 10000)[:, np.newaxis]\n",
    "    summation = np.sum((-1)**n_array * np.exp(-(np.pi * n_array)**2 * D/L**2 * t), axis=0)\n",
    "    return P_up**0.5 * permeability / L * (2*summation + 1)\n",
    "times = derived_quantities.t\n",
    "computed_flux = derived_quantities.filter(surfaces=2).data\n",
    "\n",
    "D = 1.9e-7*np.exp(-0.2/F.k_B/500)\n",
    "S = 4.02e21*np.exp(-1.04/F.k_B/500)\n",
    "\n",
    "import matplotlib.pyplot as plt\n",
    "plt.scatter(times, np.abs(computed_flux)/2, label=\"computed\")\n",
    "plt.ylim(bottom=0)\n",
    "plt.xlabel(\"Time (s)\")\n",
    "plt.ylabel(\"Downstream flux (H/m2/s)\")\n",
    "import os \n",
    "script_dir = os.getcwd()\n",
    "print(script_dir)\n",
    "os.chdir(script_dir) \n",
    "np.savetxt('Medium_flux_festim.txt',np.column_stack([times,np.abs(computed_flux)/2]))\n"
   ]
  }
 ],
 "metadata": {
  "kernelspec": {
   "display_name": "Python 3 (ipykernel)",
   "language": "python",
   "name": "python3"
  },
  "language_info": {
   "name": "python",
   "version": "3.11.5"
  },
  "orig_nbformat": 4
 },
 "nbformat": 4,
 "nbformat_minor": 2
}
