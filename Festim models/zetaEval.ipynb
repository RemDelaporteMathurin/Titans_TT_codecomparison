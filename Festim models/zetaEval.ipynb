{
 "cells": [
  {
   "cell_type": "code",
   "execution_count": null,
   "metadata": {},
   "outputs": [],
   "source": [
    "from scipy.constants import k as k_b, N_A as N_A_const\n",
    "from numpy import exp\n",
    "\n",
    "\n",
    "def evalzeta(T,p_0,k_0,E_p,E_k,n,cm):\n",
    "    \n",
    "    return p_0*exp(-E_p/(k_b*T))*k_0*exp(-E_k/(k_b*T))/n+cm/n \n",
    "cm=0.0088*N_A_const\n",
    "rho_n=6.338E28\n",
    "k_0=1.58E7/N_A_const,\n",
    "E_k=0.2,\n",
    "p_0=1e13,\n",
    "E_p_vec=[1,2,2.5]\n",
    "density=1E-3*rho_n\n",
    "T=1000\n",
    "for i,E_p in enumerate(E_p_vec):\n",
    "    print(evalzeta(300,p_0,k_0,E_p,E_k,density,cm))\n"
   ]
  }
 ],
 "metadata": {
  "language_info": {
   "name": "python"
  }
 },
 "nbformat": 4,
 "nbformat_minor": 2
}
