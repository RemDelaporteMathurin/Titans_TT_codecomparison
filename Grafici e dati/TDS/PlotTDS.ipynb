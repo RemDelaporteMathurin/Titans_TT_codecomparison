{
 "cells": [
  {
   "cell_type": "code",
   "execution_count": null,
   "metadata": {},
   "outputs": [],
   "source": [
    "import numpy as np\n",
    "import matplotlib.pyplot as plt\n",
    "import pandas as pd\n",
    "\n",
    "# Clear previous plots and data\n",
    "plt.clf()\n",
    "plt.close('all')\n",
    "\n",
    "# Load data\n",
    "COMS = np.loadtxt('TDS_aggiornato_Final.txt')\n",
    "fest = np.loadtxt('TDS_W.txt')\n",
    "\n",
    "# Create a new figure\n",
    "plt.figure(2)\n",
    "\n",
    "# Read table from CSV file\n",
    "bb = pd.read_csv('Exp_OgorodnikovaJNM2003_fluence_1e23.csv')\n",
    "cc = np.loadtxt('exp_T.txt')\n",
    "dd = np.loadtxt('exp_flux.txt')\n",
    "\n",
    "# Plot data\n",
    "plt.plot(COMS[::10, 0], COMS[::10, 1], 'b', linewidth=1, label='mHIT')\n",
    "plt.plot(fest[:, 0], fest[:, 1], 'r', linewidth=1, label='Festim')\n",
    "plt.xlabel('Temperature [K]')\n",
    "plt.ylabel('Flux [atoms/m^2/s]')\n",
    "\n",
    "# Plot more data\n",
    "plt.plot(cc, dd, linewidth=1, label='MHIMS')\n",
    "plt.plot(bb['Var1'], bb['Var2'] * 1E19, '--', label='experiment')\n",
    "plt.legend(loc='upper right')\n",
    "plt.xlim(301, 900)\n",
    "plt.ylim(0, 1E19)\n",
    "\n",
    "# Show the plot\n",
    "plt.show()\n"
   ]
  }
 ],
 "metadata": {
  "language_info": {
   "name": "python"
  },
  "orig_nbformat": 4
 },
 "nbformat": 4,
 "nbformat_minor": 2
}
