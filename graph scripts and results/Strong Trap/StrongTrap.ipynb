{
 "cells": [
  {
   "cell_type": "code",
   "execution_count": 1,
   "metadata": {},
   "outputs": [
    {
     "ename": "ModuleNotFoundError",
     "evalue": "No module named 'fenics'",
     "output_type": "error",
     "traceback": [
      "\u001b[1;31m---------------------------------------------------------------------------\u001b[0m",
      "\u001b[1;31mModuleNotFoundError\u001b[0m                       Traceback (most recent call last)",
      "\u001b[1;32mc:\\Users\\Gabriele\\Desktop\\TitansPlots\\Benchmarks\\Grafici e dati\\Strong Trap\\StrongTrap.ipynb Cell 1\u001b[0m line \u001b[0;36m1\n\u001b[1;32m----> <a href='vscode-notebook-cell:/c%3A/Users/Gabriele/Desktop/TitansPlots/Benchmarks/Grafici%20e%20dati/Strong%20Trap/StrongTrap.ipynb#W0sZmlsZQ%3D%3D?line=0'>1</a>\u001b[0m \u001b[39mimport\u001b[39;00m \u001b[39mfestim\u001b[39;00m \u001b[39mas\u001b[39;00m \u001b[39mF\u001b[39;00m\n\u001b[0;32m      <a href='vscode-notebook-cell:/c%3A/Users/Gabriele/Desktop/TitansPlots/Benchmarks/Grafici%20e%20dati/Strong%20Trap/StrongTrap.ipynb#W0sZmlsZQ%3D%3D?line=1'>2</a>\u001b[0m \u001b[39mimport\u001b[39;00m \u001b[39mos\u001b[39;00m\n\u001b[0;32m      <a href='vscode-notebook-cell:/c%3A/Users/Gabriele/Desktop/TitansPlots/Benchmarks/Grafici%20e%20dati/Strong%20Trap/StrongTrap.ipynb#W0sZmlsZQ%3D%3D?line=2'>3</a>\u001b[0m my_model \u001b[39m=\u001b[39m F\u001b[39m.\u001b[39mSimulation()\n",
      "File \u001b[1;32mc:\\Users\\Gabriele\\AppData\\Local\\Programs\\Python\\Python311\\Lib\\site-packages\\festim\\__init__.py:22\u001b[0m\n\u001b[0;32m     19\u001b[0m R \u001b[39m=\u001b[39m \u001b[39m8.314462618\u001b[39m  \u001b[39m# Gas constant J.mol-1.K-1\u001b[39;00m\n\u001b[0;32m     20\u001b[0m k_B \u001b[39m=\u001b[39m \u001b[39m8.6173303e-5\u001b[39m  \u001b[39m# Boltzmann constant eV.K-1\u001b[39;00m\n\u001b[1;32m---> 22\u001b[0m \u001b[39mfrom\u001b[39;00m \u001b[39m.\u001b[39;00m\u001b[39mhelpers\u001b[39;00m \u001b[39mimport\u001b[39;00m (\n\u001b[0;32m     23\u001b[0m     update_expressions,\n\u001b[0;32m     24\u001b[0m     kJmol_to_eV,\n\u001b[0;32m     25\u001b[0m     extract_xdmf_labels,\n\u001b[0;32m     26\u001b[0m     extract_xdmf_times,\n\u001b[0;32m     27\u001b[0m     as_constant,\n\u001b[0;32m     28\u001b[0m     as_expression,\n\u001b[0;32m     29\u001b[0m     as_constant_or_expression,\n\u001b[0;32m     30\u001b[0m )\n\u001b[0;32m     32\u001b[0m \u001b[39mfrom\u001b[39;00m \u001b[39m.\u001b[39;00m\u001b[39mmeshing\u001b[39;00m\u001b[39m.\u001b[39;00m\u001b[39mmesh\u001b[39;00m \u001b[39mimport\u001b[39;00m Mesh\n\u001b[0;32m     33\u001b[0m \u001b[39mfrom\u001b[39;00m \u001b[39m.\u001b[39;00m\u001b[39mmeshing\u001b[39;00m\u001b[39m.\u001b[39;00m\u001b[39mmesh_1d\u001b[39;00m \u001b[39mimport\u001b[39;00m Mesh1D\n",
      "File \u001b[1;32mc:\\Users\\Gabriele\\AppData\\Local\\Programs\\Python\\Python311\\Lib\\site-packages\\festim\\helpers.py:3\u001b[0m\n\u001b[0;32m      1\u001b[0m \u001b[39mimport\u001b[39;00m \u001b[39mfestim\u001b[39;00m\n\u001b[0;32m      2\u001b[0m \u001b[39mimport\u001b[39;00m \u001b[39mxml\u001b[39;00m\u001b[39m.\u001b[39;00m\u001b[39metree\u001b[39;00m\u001b[39m.\u001b[39;00m\u001b[39mElementTree\u001b[39;00m \u001b[39mas\u001b[39;00m \u001b[39mET\u001b[39;00m\n\u001b[1;32m----> 3\u001b[0m \u001b[39mfrom\u001b[39;00m \u001b[39mfenics\u001b[39;00m \u001b[39mimport\u001b[39;00m Expression, UserExpression, Constant\n\u001b[0;32m      4\u001b[0m \u001b[39mimport\u001b[39;00m \u001b[39msympy\u001b[39;00m \u001b[39mas\u001b[39;00m \u001b[39msp\u001b[39;00m\n\u001b[0;32m      7\u001b[0m \u001b[39mdef\u001b[39;00m \u001b[39mupdate_expressions\u001b[39m(expressions, t):\n",
      "\u001b[1;31mModuleNotFoundError\u001b[0m: No module named 'fenics'"
     ]
    }
   ],
   "source": [
    "import festim as F\n",
    "import os\n",
    "my_model = F.Simulation()\n",
    "import numpy as np\n",
    "import scipy.constants as const\n",
    "\n",
    "N_A_const=const.N_A\n",
    "my_model.mesh = F.MeshFromVertices(\n",
    "    vertices=np.linspace(0, 1E-3, num=1001)\n",
    ")\n",
    "my_model.materials = F.Material(id=1, D_0=1.9e-7, E_D=0.2)\n",
    "my_model.T = F.Temperature(value=1000)\n",
    "P_up = 1E5 # Pa\n",
    "\n",
    "my_model.boundary_conditions = [\n",
    "    F.DirichletBC(surfaces=1, value=0.0088*N_A_const,field=0),\n",
    "    F.DirichletBC(surfaces=2, value=0, field=0)\n",
    "]\n",
    "rho_n=6.338E28\n",
    "trap = F.Trap(\n",
    "            k_0=1.58E7/N_A_const,\n",
    "            E_k=0.2,\n",
    "            p_0=1e13,\n",
    "            E_p=2.5,\n",
    "            density=1E-3*rho_n,\n",
    "            materials=my_model.materials.materials[0]\n",
    "        )\n",
    "\n",
    "my_model.traps = [trap]\n",
    "my_model.settings = F.Settings(\n",
    "    absolute_tolerance=1e10,\n",
    "    relative_tolerance=1e-10,\n",
    "    final_time=1E6  # s\n",
    "    )\n",
    "my_model.dt = F.Stepsize(initial_value=1E-2,\n",
    "    dt_min=1E-3,\n",
    "    stepsize_change_ratio=1.1,\n",
    "    t_stop=1E3,stepsize_stop_max=1E2\n",
    "    )\n",
    "derived_quantities = F.DerivedQuantities([F.HydrogenFlux(surface=2)])\n",
    "\n",
    "\n",
    "my_model.exports = [derived_quantities]\n",
    "\n"
   ]
  },
  {
   "cell_type": "code",
   "execution_count": null,
   "metadata": {},
   "outputs": [
    {
     "name": "stdout",
     "output_type": "stream",
     "text": [
      "Defining initial values\n",
      "Defining variational problem\n",
      "Defining source terms\n",
      "Defining boundary conditions\n"
     ]
    }
   ],
   "source": [
    "my_model.initialise()\n",
    "\n"
   ]
  },
  {
   "cell_type": "code",
   "execution_count": null,
   "metadata": {},
   "outputs": [
    {
     "name": "stdout",
     "output_type": "stream",
     "text": [
      "Time stepping...\n",
      "0.1 %        1.4e+03 s    Ellapsed time so far: 7.2 s\r"
     ]
    }
   ],
   "source": [
    "\n",
    "my_model.run()\n"
   ]
  },
  {
   "cell_type": "code",
   "execution_count": null,
   "metadata": {},
   "outputs": [],
   "source": [
    "\n",
    "def downstream_flux(t, P_up, permeability, L, D):\n",
    "    \"\"\"calculates the downstream H flux at a given time t\n",
    "\n",
    "    Args:\n",
    "        t (float, np.array): the time\n",
    "        P_up (float): upstream partial pressure of H\n",
    "        permeability (float): material permeability\n",
    "        L (float): material thickness\n",
    "        D (float): diffusivity of H in the material\n",
    "\n",
    "    Returns:\n",
    "        float, np.array: the downstream flux of H\n",
    "    \"\"\"\n",
    "    n_array = np.arange(1, 10000)[:, np.newaxis]\n",
    "    summation = np.sum((-1)**n_array * np.exp(-(np.pi * n_array)**2 * D/L**2 * t), axis=0)\n",
    "    return P_up**0.5 * permeability / L * (2*summation + 1)\n",
    "times = derived_quantities.t\n",
    "computed_flux = derived_quantities.filter(surfaces=2).data\n",
    "\n",
    "D = 1.9e-7*np.exp(-0.2/F.k_B/500)\n",
    "S = 4.02e21*np.exp(-1.04/F.k_B/500)\n",
    "\n",
    "import matplotlib.pyplot as plt\n",
    "plt.scatter(times, np.abs(computed_flux)/2, alpha=0.2, label=\"computed\")\n",
    "# plt.plot(times, downstream_flux(times, P_up, permeability=D*S, L=3e-4, D=D), color=\"tab:orange\", label=\"analytical\")\n",
    "plt.ylim(bottom=0)\n",
    "plt.xlabel(\"Time (s)\")\n",
    "plt.ylabel(\"Downstream flux (H/m2/s)\")\n",
    "\n",
    "script_dir = os.getcwd()\n",
    "os.chdir(script_dir) \n",
    "np.savetxt('Strong_flux_festim.txt',np.column_stack([times,np.abs(computed_flux)/2]))"
   ]
  }
 ],
 "metadata": {
  "kernelspec": {
   "display_name": "Python 3 (ipykernel)",
   "language": "python",
   "name": "python3"
  },
  "language_info": {
   "codemirror_mode": {
    "name": "ipython",
    "version": 3
   },
   "file_extension": ".py",
   "mimetype": "text/x-python",
   "name": "python",
   "nbconvert_exporter": "python",
   "pygments_lexer": "ipython3",
   "version": "3.11.4"
  },
  "orig_nbformat": 4
 },
 "nbformat": 4,
 "nbformat_minor": 2
}
