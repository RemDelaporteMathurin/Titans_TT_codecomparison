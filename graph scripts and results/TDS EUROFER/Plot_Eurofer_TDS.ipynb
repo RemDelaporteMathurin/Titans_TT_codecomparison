{
 "cells": [
  {
   "cell_type": "code",
   "execution_count": null,
   "metadata": {},
   "outputs": [],
   "source": [
    "import numpy as np\n",
    "import pandas as pd\n",
    "import matplotlib.pyplot as plt\n",
    "\n",
    "# Load data from text files\n",
    "a = np.loadtxt(\"TDS_Eurofer_Part1.txt\")\n",
    "a2 = np.loadtxt(\"TDS_Eurofer_Part2.txt\")\n",
    "festim = pd.read_csv(\"derived_quantities.csv\")\n",
    "\n",
    "# Plot the first dataset\n",
    "plt.plot(a[:, 0], a[:, 1], \"r\")\n",
    "\n",
    "b = np.loadtxt(\"simTDS1.txt\")\n",
    "c = np.loadtxt(\"simTDS2.txt\")\n",
    "bb = pd.read_csv(\"tds_mars21_873K.csv\")\n",
    "cc = pd.read_csv(\"tds_mars21_1273K.csv\")\n",
    "\n",
    "# Plot the second dataset\n",
    "plt.plot(b[:, 0], b[:, 1], \"b\")\n",
    "plt.plot(bb[\"T\"], bb[\"flux\"], \"g\")\n",
    "plt.plot(a2[:, 0], a2[:, 1], \"r\")\n",
    "plt.plot(c[:, 0], c[:, 1], \"b\")\n",
    "\n",
    "# Plot the third dataset\n",
    "plt.plot(cc[\"T\"], cc[\"flux\"], \"g\")\n",
    "\n",
    "# Set labels and legend\n",
    "plt.xlabel(\"Temperature [K]\")\n",
    "plt.ylabel(\"Flux [H_2/m^2/s]\")\n",
    "plt.legend([\"festim\", \"mHIT\", \"MHIMS\", \"experiment\"], loc=\"upper right\")\n",
    "\n",
    "# Set axis limits\n",
    "plt.xlim([290, 1300])\n",
    "plt.ylim([0, 3e18])\n",
    "\n",
    "# Invert the y-axis\n",
    "plt.gca().invert_yaxis()\n",
    "\n",
    "# Show the plot\n",
    "plt.show()"
   ]
  }
 ],
 "metadata": {
  "language_info": {
   "name": "python"
  }
 },
 "nbformat": 4,
 "nbformat_minor": 2
}
